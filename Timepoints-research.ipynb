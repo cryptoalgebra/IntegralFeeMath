{
 "cells": [
  {
   "cell_type": "code",
   "execution_count": null,
   "id": "ada0e5e6",
   "metadata": {},
   "outputs": [],
   "source": [
    "import pandas as pd\n",
    "import math\n",
    "import plotly.graph_objects as go\n",
    "from plotly.subplots import make_subplots\n",
    "pd.options.plotting.backend = \"plotly\""
   ]
  },
  {
   "cell_type": "code",
   "execution_count": null,
   "id": "6f5bfaad",
   "metadata": {},
   "outputs": [],
   "source": [
    "df = pd.read_json('input/timepoints.json')\n",
    "df['time_delta'] = (df['timestamp'].shift(-1) - df['timestamp']) // pd.Timedelta(seconds=1)\n",
    "df.dropna(inplace=True)"
   ]
  },
  {
   "cell_type": "code",
   "execution_count": null,
   "id": "b472c211",
   "metadata": {},
   "outputs": [],
   "source": [
    "fig = df[df['time_delta'] <= 6 * df['time_delta'].std()]['time_delta'].hist() # filter anomalies to simplify plot\n",
    "fig.update_xaxes(range = [0,df['time_delta'].mean() + 6 * df['time_delta'].std()], title_text=\"Seconds between timepoints\")"
   ]
  },
  {
   "cell_type": "code",
   "execution_count": null,
   "id": "44ad77c4",
   "metadata": {},
   "outputs": [],
   "source": [
    "# RESEARCH AVERAGE VOLATILITY\n",
    "\n",
    "fig = df[df['volatilityAverage'] <= 6 * df['volatilityAverage'].std()]['volatilityAverage'].hist() # filter anomalies to simplify plot\n",
    "fig.update_xaxes(range = [0,df['volatilityAverage'].mean() + 6 * df['volatilityAverage'].std()], title_text=\"Average volatility\")"
   ]
  },
  {
   "cell_type": "code",
   "execution_count": null,
   "id": "2528f7e7",
   "metadata": {},
   "outputs": [],
   "source": [
    "# Percentile plit for average volatility values\n",
    "# for each \"X\" percent value on plot is \"average volatility\" such that X% of records are <= value\n",
    "\n",
    "percentiles = []\n",
    "values = []\n",
    "\n",
    "for i in range(100):\n",
    "    percentiles.append(i)\n",
    "    values.append(df['volatilityAverage'].quantile(i/100))\n",
    "\n",
    "fig = go.Figure()\n",
    "fig.add_trace(go.Scatter(x=percentiles, y=values, name='Volatility average percentile'))\n",
    "\n",
    "fig.update_xaxes(title_text=\"Percent\")\n",
    "fig.update_yaxes(title_text=\"Value\")\n",
    "fig.show()"
   ]
  },
  {
   "cell_type": "code",
   "execution_count": null,
   "id": "990c7113",
   "metadata": {},
   "outputs": [],
   "source": [
    "# get desired percentiles\n",
    "\n",
    "def get_main_percentiles(lowest, highest):\n",
    "    return(df['volatilityAverage'].quantile(lowest/100), df['volatilityAverage'].quantile((100 - highest)/100))\n",
    "print(get_main_percentiles(15, 30))"
   ]
  },
  {
   "cell_type": "code",
   "execution_count": null,
   "id": "92d5860c",
   "metadata": {},
   "outputs": [],
   "source": []
  }
 ],
 "metadata": {
  "kernelspec": {
   "display_name": "Python 3",
   "language": "python",
   "name": "python3"
  },
  "language_info": {
   "codemirror_mode": {
    "name": "ipython",
    "version": 3
   },
   "file_extension": ".py",
   "mimetype": "text/x-python",
   "name": "python",
   "nbconvert_exporter": "python",
   "pygments_lexer": "ipython3",
   "version": "3.9.13"
  }
 },
 "nbformat": 4,
 "nbformat_minor": 5
}
